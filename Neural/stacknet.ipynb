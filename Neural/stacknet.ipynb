{
 "cells": [
  {
   "cell_type": "code",
   "execution_count": 1,
   "metadata": {},
   "outputs": [
    {
     "name": "stderr",
     "output_type": "stream",
     "text": [
      "Using TensorFlow backend.\n"
     ]
    },
    {
     "name": "stdout",
     "output_type": "stream",
     "text": [
      "/home/data/cuhk03_release found :)\n",
      "found memmaped /home/data/cuhk03_release/labeled112x112.npy\n",
      "found memmaped /home/data/cuhk03_release/detected112x112.npy\n"
     ]
    }
   ],
   "source": [
    "%matplotlib inline\n",
    "from keras.applications.vgg16 import VGG16\n",
    "from keras.preprocessing import image\n",
    "from keras.applications.vgg16 import preprocess_input\n",
    "from keras.layers import Flatten, Dense, Activation, Conv2D, MaxPooling2D\n",
    "from keras.models import Sequential\n",
    "import numpy as np\n",
    "from pak.datasets.CUHK03 import cuhk03\n",
    "import matplotlib.pyplot as plt\n",
    "\n",
    "root = '/home/data'\n",
    "target_w, target_h = 112, 112\n",
    "data = cuhk03(root, target_w=target_w, target_h=target_h)\n",
    "X, Y = data.get_labeled()\n",
    "X, Y = data.get_detected()\n",
    "\n"
   ]
  },
  {
   "cell_type": "code",
   "execution_count": 2,
   "metadata": {},
   "outputs": [
    {
     "name": "stdout",
     "output_type": "stream",
     "text": [
      "_________________________________________________________________\n",
      "Layer (type)                 Output Shape              Param #   \n",
      "=================================================================\n",
      "block1_conv1 (Conv2D)        (None, 112, 112, 64)      3520      \n",
      "_________________________________________________________________\n",
      "block1_conv2 (Conv2D)        (None, 112, 112, 64)      36928     \n",
      "_________________________________________________________________\n",
      "block1_pool (MaxPooling2D)   (None, 56, 56, 64)        0         \n",
      "_________________________________________________________________\n",
      "block2_conv1 (Conv2D)        (None, 56, 56, 128)       73856     \n",
      "_________________________________________________________________\n",
      "block2_conv2 (Conv2D)        (None, 56, 56, 128)       147584    \n",
      "_________________________________________________________________\n",
      "block2_pool (MaxPooling2D)   (None, 28, 28, 128)       0         \n",
      "_________________________________________________________________\n",
      "block3_conv1 (Conv2D)        (None, 28, 28, 256)       295168    \n",
      "_________________________________________________________________\n",
      "block3_conv2 (Conv2D)        (None, 28, 28, 256)       590080    \n",
      "_________________________________________________________________\n",
      "block3_conv3 (Conv2D)        (None, 28, 28, 256)       590080    \n",
      "_________________________________________________________________\n",
      "block3_pool (MaxPooling2D)   (None, 14, 14, 256)       0         \n",
      "_________________________________________________________________\n",
      "block4_conv1 (Conv2D)        (None, 14, 14, 512)       1180160   \n",
      "_________________________________________________________________\n",
      "block4_conv2 (Conv2D)        (None, 14, 14, 512)       2359808   \n",
      "_________________________________________________________________\n",
      "block4_conv3 (Conv2D)        (None, 14, 14, 512)       2359808   \n",
      "_________________________________________________________________\n",
      "block4_pool (MaxPooling2D)   (None, 7, 7, 512)         0         \n",
      "_________________________________________________________________\n",
      "block5_conv1 (Conv2D)        (None, 7, 7, 512)         2359808   \n",
      "_________________________________________________________________\n",
      "block5_conv2 (Conv2D)        (None, 7, 7, 512)         2359808   \n",
      "_________________________________________________________________\n",
      "block5_conv3 (Conv2D)        (None, 7, 7, 512)         2359808   \n",
      "_________________________________________________________________\n",
      "block5_pool (MaxPooling2D)   (None, 3, 3, 512)         0         \n",
      "=================================================================\n",
      "Total params: 14,716,416\n",
      "Trainable params: 14,716,416\n",
      "Non-trainable params: 0\n",
      "_________________________________________________________________\n"
     ]
    }
   ],
   "source": [
    "vgg_model = VGG16(input_shape=(112, 112, 3), weights='imagenet', include_top=False)\n",
    "\n",
    "\n",
    "train_upper_layers = True\n",
    "model = Sequential()\n",
    "block1_conv1 = Conv2D(64, (3, 3), input_shape=(112,112,6), \n",
    "                 padding='same', name='block1_conv1', \n",
    "                      trainable=train_upper_layers)\n",
    "model.add(block1_conv1)\n",
    "model.add(Conv2D(64, (3,3), padding='same', name='block1_conv2', \n",
    "                 trainable=train_upper_layers))\n",
    "model.add(MaxPooling2D(pool_size=(2,2), name='block1_pool'))\n",
    "\n",
    "model.add(Conv2D(128, (3,3), padding='same', name='block2_conv1', \n",
    "                 trainable=train_upper_layers))\n",
    "model.add(Conv2D(128, (3,3), padding='same', name='block2_conv2', \n",
    "                 trainable=train_upper_layers))\n",
    "model.add(MaxPooling2D(pool_size=(2,2), name='block2_pool'))\n",
    "\n",
    "model.add(Conv2D(256, (3,3), padding='same', name='block3_conv1', \n",
    "                 trainable=train_upper_layers))\n",
    "model.add(Conv2D(256, (3,3), padding='same', name='block3_conv2', \n",
    "                 trainable=train_upper_layers))\n",
    "model.add(Conv2D(256, (3,3), padding='same', name='block3_conv3', \n",
    "                 trainable=train_upper_layers))\n",
    "model.add(MaxPooling2D(pool_size=(2,2), name='block3_pool'))\n",
    "\n",
    "model.add(Conv2D(512, (3,3), padding='same', name='block4_conv1', \n",
    "                 trainable=train_upper_layers))\n",
    "model.add(Conv2D(512, (3,3), padding='same', name='block4_conv2', \n",
    "                 trainable=train_upper_layers))\n",
    "model.add(Conv2D(512, (3,3), padding='same', name='block4_conv3', \n",
    "                 trainable=train_upper_layers))\n",
    "model.add(MaxPooling2D(pool_size=(2,2), name='block4_pool'))\n",
    "\n",
    "model.add(Conv2D(512, (3,3), padding='same', name='block5_conv1'))\n",
    "model.add(Conv2D(512, (3,3), padding='same', name='block5_conv2'))\n",
    "model.add(Conv2D(512, (3,3), padding='same', name='block5_conv3'))\n",
    "model.add(MaxPooling2D(pool_size=(2,2), name='block5_pool'))\n",
    "\n",
    "# --- set the fixed weights ---\n",
    "W, bias = vgg_model.layers[1].get_weights()\n",
    "W = np.concatenate((W,W),axis=2)\n",
    "block1_conv1.set_weights([W, bias])\n",
    "# -----------------------------\n",
    "\n",
    "for i in range(1, len(model.layers)):\n",
    "    model.layers[i].set_weights(vgg_model.layers[i+1].get_weights())\n",
    "\n",
    "\n",
    "model.summary()"
   ]
  }
 ],
 "metadata": {
  "kernelspec": {
   "display_name": "Python 3",
   "language": "python",
   "name": "python3"
  },
  "language_info": {
   "codemirror_mode": {
    "name": "ipython",
    "version": 3
   },
   "file_extension": ".py",
   "mimetype": "text/x-python",
   "name": "python",
   "nbconvert_exporter": "python",
   "pygments_lexer": "ipython3",
   "version": "3.6.3"
  }
 },
 "nbformat": 4,
 "nbformat_minor": 2
}
