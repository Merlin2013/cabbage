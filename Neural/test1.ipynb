{
 "cells": [
  {
   "cell_type": "code",
   "execution_count": 1,
   "metadata": {},
   "outputs": [
    {
     "name": "stdout",
     "output_type": "stream",
     "text": [
      "Download . . . \n",
      "Packages loaded.\n"
     ]
    }
   ],
   "source": [
    "import os\n",
    "import numpy as np\n",
    "import matplotlib.pyplot as plt\n",
    "import tensorflow as tf\n",
    "import scipy.misc \n",
    "import scipy.io\n",
    "\n",
    "\n",
    "import urllib.request\n",
    "import shutil\n",
    "from os import makedirs, listdir\n",
    "from os.path import join, isfile, isdir, exists, splitext\n",
    "\n",
    "cwd = os.getcwd()\n",
    "VGG_PATH = cwd + \"/Weights/imagenet-vgg-verydeep-19.mat\"\n",
    "\n",
    "if not isfile(VGG_PATH):\n",
    "    url = 'http://www.vlfeat.org/matconvnet/models/beta16/imagenet-vgg-verydeep-19.mat'\n",
    "    with urllib.request.urlopen(url) as res, open(VGG_PATH, 'wb') as f:\n",
    "        print (\"Download . . . \")\n",
    "        shutil.copyfileobj(res, f)\n",
    "\n",
    "print (\"Packages loaded.\")"
   ]
  },
  {
   "cell_type": "code",
   "execution_count": 2,
   "metadata": {
    "collapsed": true
   },
   "outputs": [],
   "source": [
    "def net(data_path, input_image):\n",
    "    layers = (\n",
    "        'conv1_1', 'relu1_1', 'conv1_2', 'relu1_2', 'pool1',\n",
    "\n",
    "        'conv2_1', 'relu2_1', 'conv2_2', 'relu2_2', 'pool2',\n",
    "\n",
    "        'conv3_1', 'relu3_1', 'conv3_2', 'relu3_2', 'conv3_3',\n",
    "        'relu3_3', 'conv3_4', 'relu3_4', 'pool3',\n",
    "\n",
    "        'conv4_1', 'relu4_1', 'conv4_2', 'relu4_2', 'conv4_3',\n",
    "        'relu4_3', 'conv4_4', 'relu4_4', 'pool4',\n",
    "\n",
    "        'conv5_1', 'relu5_1', 'conv5_2', 'relu5_2', 'conv5_3',\n",
    "        'relu5_3', 'conv5_4', 'relu5_4'\n",
    "    )\n",
    "\n",
    "    data = scipy.io.loadmat(data_path)\n",
    "    mean = data['normalization'][0][0][0]\n",
    "    mean_pixel = np.mean(mean, axis=(0, 1))\n",
    "    weights = data['layers'][0]\n",
    "\n",
    "    net = {}\n",
    "    current = input_image\n",
    "    for i, name in enumerate(layers):\n",
    "        kind = name[:4]\n",
    "        if name == 'conv1_1':\n",
    "            kernels, bias = weights[i][0][0][0][0]\n",
    "            kernels = np.transpose(kernels, (1, 0, 2, 3))\n",
    "            bias = bias.reshape(-1)\n",
    "            \n",
    "            current = _conv_layer(current, kernels, bias)\n",
    "        elif kind == 'conv':\n",
    "            kernels, bias = weights[i][0][0][0][0]\n",
    "            # matconvnet: weights are [width, height, in_channels, out_channels]\n",
    "            # tensorflow: weights are [height, width, in_channels, out_channels]\n",
    "            kernels = np.transpose(kernels, (1, 0, 2, 3))\n",
    "            bias = bias.reshape(-1)\n",
    "            current = _conv_layer(current, kernels, bias)\n",
    "        elif kind == 'relu':\n",
    "            current = tf.nn.relu(current)\n",
    "        elif kind == 'pool':\n",
    "            current = _pool_layer(current)\n",
    "        net[name] = current\n",
    "        print(name)\n",
    "        \n",
    "    assert len(net) == len(layers)\n",
    "    \n",
    "    \n",
    "    return net, mean_pixel\n",
    "\n",
    "def _conv_layer(input, weights, bias):\n",
    "    print (weights.shape)\n",
    "    conv = tf.nn.conv2d(input, tf.constant(weights), strides=(1, 1, 1, 1),\n",
    "            padding='SAME')\n",
    "    return tf.nn.bias_add(conv, bias)\n",
    "def _pool_layer(input):\n",
    "    return tf.nn.max_pool(input, ksize=(1, 2, 2, 1), strides=(1, 2, 2, 1),\n",
    "            padding='SAME')\n",
    "def preprocess(image, mean_pixel):\n",
    "    return image - mean_pixel\n",
    "def unprocess(image, mean_pixel):\n",
    "    return image + mean_pixel"
   ]
  },
  {
   "cell_type": "code",
   "execution_count": 3,
   "metadata": {},
   "outputs": [
    {
     "name": "stdout",
     "output_type": "stream",
     "text": [
      "(3, 3, 3, 64)\n",
      "conv1_1\n",
      "relu1_1\n",
      "(3, 3, 64, 64)\n",
      "conv1_2\n",
      "relu1_2\n",
      "pool1\n",
      "(3, 3, 64, 128)\n",
      "conv2_1\n",
      "relu2_1\n",
      "(3, 3, 128, 128)\n",
      "conv2_2\n",
      "relu2_2\n",
      "pool2\n",
      "(3, 3, 128, 256)\n",
      "conv3_1\n",
      "relu3_1\n",
      "(3, 3, 256, 256)\n",
      "conv3_2\n",
      "relu3_2\n",
      "(3, 3, 256, 256)\n",
      "conv3_3\n",
      "relu3_3\n",
      "(3, 3, 256, 256)\n",
      "conv3_4\n",
      "relu3_4\n",
      "pool3\n",
      "(3, 3, 256, 512)\n",
      "conv4_1\n",
      "relu4_1\n",
      "(3, 3, 512, 512)\n",
      "conv4_2\n",
      "relu4_2\n",
      "(3, 3, 512, 512)\n",
      "conv4_3\n",
      "relu4_3\n",
      "(3, 3, 512, 512)\n",
      "conv4_4\n",
      "relu4_4\n",
      "pool4\n",
      "(3, 3, 512, 512)\n",
      "conv5_1\n",
      "relu5_1\n",
      "(3, 3, 512, 512)\n",
      "conv5_2\n",
      "relu5_2\n",
      "(3, 3, 512, 512)\n",
      "conv5_3\n",
      "relu5_3\n",
      "(3, 3, 512, 512)\n",
      "conv5_4\n",
      "relu5_4\n",
      "Done\n"
     ]
    }
   ],
   "source": [
    "\n",
    "\n",
    "with tf.Graph().as_default(), tf.Session() as sess:\n",
    "    with tf.device(\"/cpu:0\"):\n",
    "        img_placeholder = tf.placeholder(tf.float32, shape=(None, 112, 112, 3))\n",
    "        net, mean_pixel = net(VGG_PATH, img_placeholder)\n",
    "        \n",
    "        \n",
    "print(\"Done\")\n"
   ]
  },
  {
   "cell_type": "code",
   "execution_count": null,
   "metadata": {
    "collapsed": true
   },
   "outputs": [],
   "source": [
    "\n"
   ]
  }
 ],
 "metadata": {
  "kernelspec": {
   "display_name": "Python 3",
   "language": "python",
   "name": "python3"
  },
  "language_info": {
   "codemirror_mode": {
    "name": "ipython",
    "version": 3
   },
   "file_extension": ".py",
   "mimetype": "text/x-python",
   "name": "python",
   "nbconvert_exporter": "python",
   "pygments_lexer": "ipython3",
   "version": "3.6.1"
  }
 },
 "nbformat": 4,
 "nbformat_minor": 2
}
