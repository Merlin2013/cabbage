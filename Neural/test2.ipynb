{
 "cells": [
  {
   "cell_type": "code",
   "execution_count": 1,
   "metadata": {},
   "outputs": [
    {
     "name": "stdout",
     "output_type": "stream",
     "text": [
      "Packages loaded.\n"
     ]
    }
   ],
   "source": [
    "from vgg_reid import vgg_reid\n",
    "\n",
    "nn = vgg_reid()"
   ]
  },
  {
   "cell_type": "code",
   "execution_count": 2,
   "metadata": {},
   "outputs": [
    {
     "name": "stdout",
     "output_type": "stream",
     "text": [
      "conv1_1\n",
      "(3, 3, 6, 64)\n",
      "(64,)\n",
      "relu1_1\n",
      "conv1_2\n",
      "(3, 3, 64, 64)\n",
      "(64,)\n",
      "relu1_2\n",
      "pool1\n",
      "conv2_1\n",
      "(3, 3, 64, 128)\n",
      "(128,)\n",
      "relu2_1\n",
      "conv2_2\n",
      "(3, 3, 128, 128)\n",
      "(128,)\n",
      "relu2_2\n",
      "pool2\n",
      "conv3_1\n",
      "(3, 3, 128, 256)\n",
      "(256,)\n",
      "relu3_1\n",
      "conv3_2\n",
      "(3, 3, 256, 256)\n",
      "(256,)\n",
      "relu3_2\n",
      "conv3_3\n",
      "(3, 3, 256, 256)\n",
      "(256,)\n",
      "relu3_3\n",
      "conv3_4\n",
      "(3, 3, 256, 256)\n",
      "(256,)\n",
      "relu3_4\n",
      "pool3\n",
      "conv4_1\n",
      "(3, 3, 256, 512)\n",
      "(512,)\n",
      "relu4_1\n",
      "conv4_2\n",
      "(3, 3, 512, 512)\n",
      "(512,)\n",
      "relu4_2\n",
      "conv4_3\n",
      "(3, 3, 512, 512)\n",
      "(512,)\n",
      "relu4_3\n",
      "conv4_4\n",
      "(3, 3, 512, 512)\n",
      "(512,)\n",
      "relu4_4\n",
      "pool4\n",
      "conv5_1\n",
      "(3, 3, 512, 512)\n",
      "(512,)\n",
      "relu5_1\n",
      "conv5_2\n",
      "(3, 3, 512, 512)\n",
      "(512,)\n",
      "relu5_2\n",
      "conv5_3\n",
      "(3, 3, 512, 512)\n",
      "(512,)\n",
      "relu5_3\n",
      "conv5_4\n",
      "(3, 3, 512, 512)\n",
      "(512,)\n",
      "relu5_4\n"
     ]
    }
   ],
   "source": [
    "net , x , mean = nn.get_stacked_reid((112,112))\n",
    "\n",
    "learning_rate   = 0.0001\n",
    "\n",
    "\n",
    "y = tf.placeholder(tf.float32, [None, 2])\n",
    "\n",
    "_pred = net[\"out\"]\n",
    "cost = tf.reduce_mean(tf.nn.softmax_cross_entropy_with_logits(logits=_pred, labels=y))\n",
    "optm = tf.train.AdamOptimizer(learning_rate=learning_rate).minimize(cost)\n",
    "\n",
    "init = tf.global_variables_initializer()\n",
    "\n",
    "# Launch the graph\n",
    "sess = tf.Session()\n",
    "sess.run(init)"
   ]
  },
  {
   "cell_type": "code",
   "execution_count": 3,
   "metadata": {},
   "outputs": [
    {
     "ename": "NameError",
     "evalue": "name 'model' is not defined",
     "output_type": "error",
     "traceback": [
      "\u001b[0;31m---------------------------------------------------------------------------\u001b[0m",
      "\u001b[0;31mNameError\u001b[0m                                 Traceback (most recent call last)",
      "\u001b[0;32m<ipython-input-3-458d5f1afc81>\u001b[0m in \u001b[0;36m<module>\u001b[0;34m()\u001b[0m\n\u001b[0;32m----> 1\u001b[0;31m \u001b[0mmodel\u001b[0m\u001b[0;34m\u001b[0m\u001b[0m\n\u001b[0m",
      "\u001b[0;31mNameError\u001b[0m: name 'model' is not defined"
     ]
    }
   ],
   "source": []
  }
 ],
 "metadata": {
  "kernelspec": {
   "display_name": "Python 3",
   "language": "python",
   "name": "python3"
  },
  "language_info": {
   "codemirror_mode": {
    "name": "ipython",
    "version": 3
   },
   "file_extension": ".py",
   "mimetype": "text/x-python",
   "name": "python",
   "nbconvert_exporter": "python",
   "pygments_lexer": "ipython3",
   "version": "3.6.1"
  }
 },
 "nbformat": 4,
 "nbformat_minor": 2
}
