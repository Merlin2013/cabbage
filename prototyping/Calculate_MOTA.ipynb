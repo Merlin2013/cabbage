{
 "cells": [
  {
   "cell_type": "code",
   "execution_count": 8,
   "metadata": {},
   "outputs": [
    {
     "name": "stdout",
     "output_type": "stream",
     "text": [
      "{'data_root': '/home/data',\n",
      " 'deepmatch': '/home/deepmatching_1.2.2_c++/deepmatching-static',\n",
      " 'graph_solver': '/home/cabbage/build/sample'}\n",
      "(501, 6)\n",
      "(7119651,)\n"
     ]
    }
   ],
   "source": [
    "import json\n",
    "from pprint import pprint\n",
    "Settings = json.load(open('settings.txt'))\n",
    "pprint(Settings)\n",
    "import sys\n",
    "sys.path.insert(0,'../')\n",
    "from numpy import genfromtxt\n",
    "import numpy as np\n",
    "from pak.evaluation import MOTA\n",
    "from cabbage.data.video import VideoData\n",
    "from experiments import MOT16_Experiments\n",
    "\n",
    "root = Settings['data_root']\n",
    "\n",
    "mot16 = MOT16_Experiments(root)\n",
    "Hy = VideoData(mot16.get_MOT16_11_trajectories())  # true detections\n",
    "Hy = Hy.get_n_first_frames(100)\n",
    "print(Hy.shape)\n",
    "\n",
    "\n",
    "result = genfromtxt('../build/RESULT.txt', delimiter=' ', dtype='uint32')\n",
    "print(result[:,2].shape)\n",
    "\n",
    "\n",
    "# def extract_ids(result):\n",
    "#     #TODO: make this stuff better..\n",
    "    \n",
    "#     candidates = []\n",
    "#     n = np.max(result[:,1])  # total number of nodes\n",
    "    \n",
    "#     Nodes = [i for i in range(n+1)]\n",
    "    \n",
    "    \n",
    "#     for i, j, edge in result:\n",
    "#         assert(i < j)\n",
    "#         has_edge = edge == 0\n",
    "        \n",
    "#         if has_edge:\n",
    "#             repres = Nodes[i]\n",
    "#             Nodes[j] = repres\n",
    "\n",
    "#     #print(Nodes)     \n",
    "#     return Nodes\n",
    "\n",
    "# Nodes = extract_ids(result)\n",
    "\n",
    "# # translate to sensible id's\n",
    "# n_unique = len(np.unique(Nodes))\n",
    "# lookup = {}\n",
    "# for new,old in zip(list(range(n_unique)), np.unique(Nodes)):\n",
    "#     lookup[old] = new\n",
    "\n",
    "# for i in range(len(Nodes)):\n",
    "#     Nodes[i] = lookup[Nodes[i]]\n",
    "\n",
    "    \n",
    "# print(\"Unique ids:\", n_unique)"
   ]
  },
  {
   "cell_type": "code",
   "execution_count": 9,
   "metadata": {},
   "outputs": [
    {
     "name": "stdout",
     "output_type": "stream",
     "text": [
      "0\n"
     ]
    }
   ],
   "source": [
    "print(np.max(result[:,2]))"
   ]
  }
 ],
 "metadata": {
  "kernelspec": {
   "display_name": "Python 3",
   "language": "python",
   "name": "python3"
  },
  "language_info": {
   "codemirror_mode": {
    "name": "ipython",
    "version": 3
   },
   "file_extension": ".py",
   "mimetype": "text/x-python",
   "name": "python",
   "nbconvert_exporter": "python",
   "pygments_lexer": "ipython3",
   "version": "3.6.3"
  }
 },
 "nbformat": 4,
 "nbformat_minor": 2
}
