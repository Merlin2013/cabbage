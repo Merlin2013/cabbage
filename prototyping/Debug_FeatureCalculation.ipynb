{
 "cells": [
  {
   "cell_type": "code",
   "execution_count": 3,
   "metadata": {},
   "outputs": [
    {
     "name": "stdout",
     "output_type": "stream",
     "text": [
      "{'data_root': '/home/data',\n",
      " 'deepmatch': '/home/deepmatching_1.2.2_c++/deepmatching-static',\n",
      " 'graph_solver': '/home/cabbage/build/sample'}\n",
      "\n",
      "\n",
      "Found model /home/data/reid_models/stacknet64x64_84acc.h5! :)\n",
      "\n",
      "Dt (267, 6)\n",
      "\n",
      "\n",
      "ALL PAIRS: (30793, 2)\n",
      "\telapsed seconds: 0.005690574645996094\n",
      "[[ 0  1]\n",
      " [ 0  2]\n",
      " [ 0  3]\n",
      " [ 0  4]\n",
      " [ 0  5]\n",
      " [ 0  6]\n",
      " [ 0  7]\n",
      " [ 0  8]\n",
      " [ 0  9]\n",
      " [ 0 10]]\n"
     ]
    }
   ],
   "source": [
    "%matplotlib inline\n",
    "import matplotlib.pyplot as plt\n",
    "import json\n",
    "from pprint import pprint\n",
    "import numpy as np\n",
    "Settings = json.load(open('settings.txt'))\n",
    "pprint(Settings)\n",
    "import numpy as np\n",
    "import sys\n",
    "sys.path.append('../')\n",
    "from cabbage.regression.Regression import get_W_mot16_02_dmax100\n",
    "from cabbage.MultiplePeopleTracking import GraphGenerator, BatchGraphGenerator, AABBLookup\n",
    "from cabbage.features.deepmatching import ReadOnlyDeepMatching\n",
    "from cabbage.features.ReId import StoredReId, StackNet64x64, get_element\n",
    "from experiments import MOT16_Experiments\n",
    "from cabbage.data.video import VideoData\n",
    "from time import time\n",
    "root = Settings['data_root']\n",
    "print(\"\\n\")\n",
    "\n",
    "reid = StackNet64x64(root)\n",
    "dm = ReadOnlyDeepMatching(root, 100)  # deep matches are set-up for 100 frames\n",
    "\n",
    "dmax = 30\n",
    "\n",
    "\n",
    "mot16 = MOT16_Experiments(root)\n",
    "video_name = 'MOT16-11'\n",
    "X = mot16.mot16_11_X\n",
    "\n",
    "#Dt = mot16.mot16_11_detections\n",
    "Dt = mot16.mot16_11_true_detections_no_pid\n",
    "vd = VideoData(Dt)\n",
    "Dt = vd.get_n_first_frames(50)\n",
    "\n",
    "W = get_W_mot16_02_dmax100(root)\n",
    "\n",
    "print(\"\\nDt\", Dt.shape)\n",
    "print(\"\\n\")\n",
    "\n",
    "\n",
    "lookup = AABBLookup(Dt, X)\n",
    "\n",
    "ALL_PAIRS = lookup.get_all_pairs(dmax)\n",
    "\n",
    "\n",
    "\n",
    "#generator = BatchGraphGenerator(root, reid=reid, dm=dm, dmax=dmax, video_name=video_name)\n",
    "#generator.build(Dt, X, W, batch_size=4)"
   ]
  }
 ],
 "metadata": {
  "kernelspec": {
   "display_name": "Python 3",
   "language": "python",
   "name": "python3"
  },
  "language_info": {
   "codemirror_mode": {
    "name": "ipython",
    "version": 3
   },
   "file_extension": ".py",
   "mimetype": "text/x-python",
   "name": "python",
   "nbconvert_exporter": "python",
   "pygments_lexer": "ipython3",
   "version": "3.6.3"
  }
 },
 "nbformat": 4,
 "nbformat_minor": 2
}
