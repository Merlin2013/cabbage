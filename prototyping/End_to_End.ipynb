{
 "cells": [
  {
   "cell_type": "code",
   "execution_count": null,
   "metadata": {},
   "outputs": [
    {
     "name": "stdout",
     "output_type": "stream",
     "text": [
      "{'data_root': '/Users/basheq/Desktop/RGBD_Lab/Data',\n",
      " 'deepmatch': '/Users/basheq/Desktop/RGBD_Lab/deepmatching_1.2.2_c++/deepmatching'}\n"
     ]
    },
    {
     "name": "stderr",
     "output_type": "stream",
     "text": [
      "Using TensorFlow backend.\n"
     ]
    },
    {
     "name": "stdout",
     "output_type": "stream",
     "text": [
      "Found model /Users/basheq/Desktop/RGBD_Lab/Data/reid_models/stacknet64x64_84acc.h5! :)\n",
      "edges for detection:  0  out of  200\n",
      "edges for detection:  1  out of  200\n",
      "edges for detection:  2  out of  200\n",
      "edges for detection:  3  out of  200\n",
      "edges for detection:  4  out of  200\n",
      "edges for detection:  5  out of  200\n",
      "edges for detection:  6  out of  200\n",
      "edges for detection:  7  out of  200\n",
      "edges for detection:  8  out of  200\n",
      "edges for detection:  9  out of  200\n",
      "edges for detection:  10  out of  200\n",
      "edges for detection:  11  out of  200\n",
      "edges for detection:  12  out of  200\n",
      "edges for detection:  13  out of  200\n",
      "edges for detection:  14  out of  200\n",
      "edges for detection:  15  out of  200\n",
      "edges for detection:  16  out of  200\n",
      "edges for detection:  17  out of  200\n",
      "edges for detection:  18  out of  200\n",
      "edges for detection:  19  out of  200\n",
      "edges for detection:  20  out of  200\n",
      "edges for detection:  21  out of  200\n",
      "edges for detection:  22  out of  200\n",
      "edges for detection:  23  out of  200\n",
      "edges for detection:  24  out of  200\n",
      "edges for detection:  25  out of  200\n",
      "edges for detection:  26  out of  200\n",
      "edges for detection:  27  out of  200\n",
      "edges for detection:  28  out of  200\n",
      "edges for detection:  29  out of  200\n",
      "edges for detection:  30  out of  200\n",
      "edges for detection:  31  out of  200\n",
      "edges for detection:  32  out of  200\n",
      "edges for detection:  33  out of  200\n",
      "ignore frame 1.0 -> 2.0\n",
      "edges for detection:  34  out of  200\n",
      "ignore frame 1.0 -> 2.0\n",
      "ignore frame 1.0 -> 3.0\n",
      "ignore frame 1.0 -> 3.0\n",
      "edges for detection:  35  out of  200\n",
      "ignore frame 1.0 -> 1.0\n",
      "ignore frame 1.0 -> 1.0\n",
      "ignore frame 1.0 -> 2.0\n",
      "ignore frame 1.0 -> 2.0\n",
      "ignore frame 1.0 -> 2.0\n",
      "ignore frame 1.0 -> 2.0\n",
      "ignore frame 1.0 -> 2.0\n",
      "ignore frame 1.0 -> 2.0\n",
      "ignore frame 1.0 -> 2.0\n",
      "ignore frame 1.0 -> 2.0\n",
      "ignore frame 1.0 -> 2.0\n",
      "edges for detection:  36  out of  200\n"
     ]
    }
   ],
   "source": [
    "%matplotlib inline\n",
    "import matplotlib.pyplot as plt\n",
    "import json\n",
    "from pprint import pprint\n",
    "import numpy as np\n",
    "Settings = json.load(open('settings.txt'))\n",
    "pprint(Settings)\n",
    "import numpy as np\n",
    "import sys\n",
    "sys.path.append('../')\n",
    "from cabbage.regression.Regression import ReadOnlyRegression \n",
    "from cabbage.MultiplePeopleTracking import GraphGenerator\n",
    "from experiments import MOT16_Experiments\n",
    "\n",
    "root = Settings['data_root']\n",
    "\n",
    "mot16 = MOT16_Experiments(root)\n",
    "video_name = 'MOT16-02'\n",
    "video = mot16.mot16_02_X\n",
    "dmax = 5\n",
    "\n",
    "regression = ReadOnlyRegression(root, 'MOT16-11', dmax)\n",
    "W = regression.get_weights()\n",
    "\n",
    "Dt = mot16.mot16_02_detections\n",
    "Hy = mot16.mot16_11_true_detections\n",
    "\n",
    "gg = GraphGenerator(root, video, Dt, dmax, W, video_name=video_name)"
   ]
  }
 ],
 "metadata": {
  "kernelspec": {
   "display_name": "Python 3",
   "language": "python",
   "name": "python3"
  },
  "language_info": {
   "codemirror_mode": {
    "name": "ipython",
    "version": 3
   },
   "file_extension": ".py",
   "mimetype": "text/x-python",
   "name": "python",
   "nbconvert_exporter": "python",
   "pygments_lexer": "ipython3",
   "version": "3.6.1"
  }
 },
 "nbformat": 4,
 "nbformat_minor": 2
}
