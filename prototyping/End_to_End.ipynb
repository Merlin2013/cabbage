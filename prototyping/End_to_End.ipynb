{
 "cells": [
  {
   "cell_type": "code",
   "execution_count": 1,
   "metadata": {
    "scrolled": false
   },
   "outputs": [
    {
     "name": "stdout",
     "output_type": "stream",
     "text": [
      "{'data_root': '/home/data',\n",
      " 'deepmatch': '/home/deepmatching_1.2.2_c++/deepmatching-static'}\n"
     ]
    },
    {
     "name": "stderr",
     "output_type": "stream",
     "text": [
      "Using TensorFlow backend.\n"
     ]
    },
    {
     "name": "stdout",
     "output_type": "stream",
     "text": [
      "(100, 15)\n",
      "Found model /home/data/reid_models/stacknet64x64_84_BOTH.h5! :)\n",
      "Dt (3349, 6)\n",
      "total frames in video: 900\n",
      "Dt_new (50, 6)\n",
      "edges for detection:  0  out of  50\n",
      "edges for detection:  1  out of  50\n",
      "edges for detection:  2  out of  50\n",
      "edges for detection:  3  out of  50\n",
      "edges for detection:  4  out of  50\n",
      "edges for detection:  5  out of  50\n",
      "edges for detection:  6  out of  50\n",
      "edges for detection:  7  out of  50\n",
      "edges for detection:  8  out of  50\n",
      "edges for detection:  9  out of  50\n",
      "edges for detection:  10  out of  50\n",
      "edges for detection:  11  out of  50\n",
      "edges for detection:  12  out of  50\n",
      "edges for detection:  13  out of  50\n",
      "edges for detection:  14  out of  50\n",
      "edges for detection:  15  out of  50\n",
      "edges for detection:  16  out of  50\n",
      "edges for detection:  17  out of  50\n",
      "edges for detection:  18  out of  50\n",
      "edges for detection:  19  out of  50\n",
      "edges for detection:  20  out of  50\n",
      "edges for detection:  21  out of  50\n",
      "edges for detection:  22  out of  50\n",
      "edges for detection:  23  out of  50\n",
      "edges for detection:  24  out of  50\n",
      "edges for detection:  25  out of  50\n",
      "edges for detection:  26  out of  50\n",
      "edges for detection:  27  out of  50\n",
      "edges for detection:  28  out of  50\n",
      "edges for detection:  29  out of  50\n",
      "edges for detection:  30  out of  50\n",
      "edges for detection:  31  out of  50\n",
      "edges for detection:  32  out of  50\n",
      "edges for detection:  33  out of  50\n",
      "edges for detection:  34  out of  50\n",
      "edges for detection:  35  out of  50\n",
      "edges for detection:  36  out of  50\n",
      "edges for detection:  37  out of  50\n",
      "edges for detection:  38  out of  50\n",
      "edges for detection:  39  out of  50\n",
      "edges for detection:  40  out of  50\n",
      "edges for detection:  41  out of  50\n",
      "edges for detection:  42  out of  50\n",
      "edges for detection:  43  out of  50\n",
      "edges for detection:  44  out of  50\n",
      "edges for detection:  45  out of  50\n",
      "edges for detection:  46  out of  50\n",
      "edges for detection:  47  out of  50\n",
      "edges for detection:  48  out of  50\n",
      "edges for detection:  49  out of  50\n",
      "Edges (526, 3)\n",
      "Lifted Edges (246, 3)\n"
     ]
    }
   ],
   "source": [
    "%matplotlib inline\n",
    "import matplotlib.pyplot as plt\n",
    "import json\n",
    "from pprint import pprint\n",
    "import numpy as np\n",
    "Settings = json.load(open('settings.txt'))\n",
    "pprint(Settings)\n",
    "import numpy as np\n",
    "import sys\n",
    "sys.path.append('../')\n",
    "from cabbage.regression.Regression import get_W_mot16_02_dmax100\n",
    "from cabbage.MultiplePeopleTracking import GraphGenerator\n",
    "from cabbage.features.deepmatching import ReadOnlyDeepMatching\n",
    "from cabbage.features.ReId import StoredReId\n",
    "from experiments import MOT16_Experiments\n",
    "from cabbage.data.video import VideoData\n",
    "\n",
    "root = Settings['data_root']\n",
    "\n",
    "mot16 = MOT16_Experiments(root)\n",
    "video_name = 'MOT16-11'\n",
    "video = mot16.mot16_11_X\n",
    "dmax = 5\n",
    "\n",
    "W = get_W_mot16_02_dmax100(root)\n",
    "print(W.shape)\n",
    "\n",
    "\n",
    "# set the correct DM's first!\n",
    "dm = ReadOnlyDeepMatching(root, 100)  # deep matches are set-up for 100 frames\n",
    "\n",
    "reid = StoredReId(root, 100)\n",
    "reid.set_mot16_11_dmax100_true_predictions3349()\n",
    "\n",
    "\n",
    "Dt = mot16.mot16_11_true_detections_no_pid\n",
    "print(\"Dt\", Dt.shape)\n",
    "\n",
    "vd = VideoData(Dt)\n",
    "print('total frames in video:', vd.last_frame)\n",
    "Dt = vd.get_n_first_frames(10)\n",
    "print(\"Dt_new\", Dt.shape)\n",
    "\n",
    "gg = GraphGenerator(root, video, Dt, dmax, W, video_name=video_name,\n",
    "                    DM_object=dm, reid_object=reid, \n",
    "                    is_memorized_reid=True)\n"
   ]
  }
 ],
 "metadata": {
  "kernelspec": {
   "display_name": "Python 3",
   "language": "python",
   "name": "python3"
  },
  "language_info": {
   "codemirror_mode": {
    "name": "ipython",
    "version": 3
   },
   "file_extension": ".py",
   "mimetype": "text/x-python",
   "name": "python",
   "nbconvert_exporter": "python",
   "pygments_lexer": "ipython3",
   "version": "3.6.3"
  }
 },
 "nbformat": 4,
 "nbformat_minor": 2
}
