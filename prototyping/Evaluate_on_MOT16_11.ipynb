{
 "cells": [
  {
   "cell_type": "code",
   "execution_count": 1,
   "metadata": {},
   "outputs": [
    {
     "name": "stdout",
     "output_type": "stream",
     "text": [
      "{'data_root': '/home/data',\n",
      " 'deepmatch': '/home/deepmatching_1.2.2_c++/deepmatching-static'}\n"
     ]
    },
    {
     "name": "stderr",
     "output_type": "stream",
     "text": [
      "Using TensorFlow backend.\n"
     ]
    },
    {
     "name": "stdout",
     "output_type": "stream",
     "text": [
      "\n",
      "\n",
      "Found model /home/data/reid_models/stacknet64x64_84acc.h5! :)\n",
      "\n",
      "Dt (3774, 6)\n",
      "\n",
      "\n",
      "create lookup structure, elapsed: 9.42313814163208\n",
      "handle frame 100 from 900\n",
      "ALL PAIRS: (7119651, 2)\n",
      "\telapsed seconds: 1.1049585342407227\n",
      "finish batch 0 .. 4 total:7119651 ... elapsed:0.39221620559692383\n",
      "finish batch 4 .. 8 total:7119651 ... elapsed:0.3805406093597412\n",
      "finish batch 8 .. 12 total:7119651 ... elapsed:0.3704822063446045\n",
      "finish batch 12 .. 16 total:7119651 ... elapsed:0.37180542945861816\n",
      "finish batch 16 .. 20 total:7119651 ... elapsed:0.3722395896911621\n",
      "finish batch 20 .. 24 total:7119651 ... elapsed:0.3913564682006836\n",
      "finish batch 24 .. 28 total:7119651 ... elapsed:0.42671990394592285\n",
      "finish batch 28 .. 32 total:7119651 ... elapsed:0.41932201385498047\n",
      "finish batch 32 .. 36 total:7119651 ... elapsed:0.42044758796691895\n",
      "finish batch 36 .. 40 total:7119651 ... elapsed:0.4213736057281494\n",
      "finish batch 40 .. 44 total:7119651 ... elapsed:0.4210948944091797\n",
      "finish batch 44 .. 48 total:7119651 ... elapsed:0.42372918128967285\n",
      "finish batch 48 .. 52 total:7119651 ... elapsed:0.42073702812194824\n",
      "finish batch 52 .. 56 total:7119651 ... elapsed:0.42163562774658203\n",
      "finish batch 56 .. 60 total:7119651 ... elapsed:0.4204413890838623\n",
      "finish batch 60 .. 64 total:7119651 ... elapsed:0.42379164695739746\n",
      "finish batch 64 .. 68 total:7119651 ... elapsed:0.45386719703674316\n",
      "finish batch 68 .. 72 total:7119651 ... elapsed:0.4312419891357422\n",
      "finish batch 72 .. 76 total:7119651 ... elapsed:0.42322349548339844\n",
      "finish batch 76 .. 80 total:7119651 ... elapsed:0.4241664409637451\n",
      "finish batch 80 .. 84 total:7119651 ... elapsed:0.41806483268737793\n",
      "finish batch 84 .. 88 total:7119651 ... elapsed:0.4167919158935547\n",
      "finish batch 88 .. 92 total:7119651 ... elapsed:0.4200100898742676\n",
      "finish batch 92 .. 96 total:7119651 ... elapsed:0.3950808048248291\n",
      "finish batch 96 .. 100 total:7119651 ... elapsed:0.3711225986480713\n",
      "finish batch 100 .. 104 total:7119651 ... elapsed:0.36635518074035645\n",
      "finish batch 104 .. 108 total:7119651 ... elapsed:0.36818981170654297\n",
      "finish batch 108 .. 112 total:7119651 ... elapsed:0.36629629135131836\n",
      "finish batch 112 .. 116 total:7119651 ... elapsed:0.3769843578338623\n",
      "finish batch 116 .. 120 total:7119651 ... elapsed:0.403109073638916\n",
      "finish batch 120 .. 124 total:7119651 ... elapsed:0.381655216217041\n",
      "finish batch 124 .. 128 total:7119651 ... elapsed:0.38440799713134766\n"
     ]
    },
    {
     "ename": "KeyboardInterrupt",
     "evalue": "",
     "output_type": "error",
     "traceback": [
      "\u001b[0;31m---------------------------------------------------------------------------\u001b[0m",
      "\u001b[0;31mKeyboardInterrupt\u001b[0m                         Traceback (most recent call last)",
      "\u001b[0;32m<ipython-input-1-60c7ab296123>\u001b[0m in \u001b[0;36m<module>\u001b[0;34m()\u001b[0m\n\u001b[1;32m     40\u001b[0m \u001b[0;34m\u001b[0m\u001b[0m\n\u001b[1;32m     41\u001b[0m \u001b[0mgenerator\u001b[0m \u001b[0;34m=\u001b[0m \u001b[0mBatchGraphGenerator\u001b[0m\u001b[0;34m(\u001b[0m\u001b[0mroot\u001b[0m\u001b[0;34m,\u001b[0m \u001b[0mreid\u001b[0m\u001b[0;34m=\u001b[0m\u001b[0mreid\u001b[0m\u001b[0;34m,\u001b[0m \u001b[0mdm\u001b[0m\u001b[0;34m=\u001b[0m\u001b[0mdm\u001b[0m\u001b[0;34m,\u001b[0m \u001b[0mdmax\u001b[0m\u001b[0;34m=\u001b[0m\u001b[0mdmax\u001b[0m\u001b[0;34m,\u001b[0m \u001b[0mvideo_name\u001b[0m\u001b[0;34m=\u001b[0m\u001b[0mvideo_name\u001b[0m\u001b[0;34m)\u001b[0m\u001b[0;34m\u001b[0m\u001b[0m\n\u001b[0;32m---> 42\u001b[0;31m \u001b[0mgenerator\u001b[0m\u001b[0;34m.\u001b[0m\u001b[0mbuild\u001b[0m\u001b[0;34m(\u001b[0m\u001b[0mDt\u001b[0m\u001b[0;34m,\u001b[0m \u001b[0mX\u001b[0m\u001b[0;34m,\u001b[0m \u001b[0mW\u001b[0m\u001b[0;34m,\u001b[0m \u001b[0mbatch_size\u001b[0m\u001b[0;34m=\u001b[0m\u001b[0;36m4\u001b[0m\u001b[0;34m)\u001b[0m\u001b[0;34m\u001b[0m\u001b[0m\n\u001b[0m",
      "\u001b[0;32m/home/cabbage/cabbage/MultiplePeopleTracking.py\u001b[0m in \u001b[0;36mbuild\u001b[0;34m(self, Dt, X, W, batch_size)\u001b[0m\n\u001b[1;32m    150\u001b[0m             DM = np.array(\n\u001b[1;32m    151\u001b[0m                 [dm.calculate_cost(video_name, f1, bb1, f2, bb2) for \\\n\u001b[0;32m--> 152\u001b[0;31m                     f1, bb1, f2, bb2 in zip(frame_i, aabb_i, frame_j, aabb_j)]\n\u001b[0m\u001b[1;32m    153\u001b[0m             )\n\u001b[1;32m    154\u001b[0m \u001b[0;34m\u001b[0m\u001b[0m\n",
      "\u001b[0;32m/home/cabbage/cabbage/MultiplePeopleTracking.py\u001b[0m in \u001b[0;36m<listcomp>\u001b[0;34m(.0)\u001b[0m\n\u001b[1;32m    150\u001b[0m             DM = np.array(\n\u001b[1;32m    151\u001b[0m                 [dm.calculate_cost(video_name, f1, bb1, f2, bb2) for \\\n\u001b[0;32m--> 152\u001b[0;31m                     f1, bb1, f2, bb2 in zip(frame_i, aabb_i, frame_j, aabb_j)]\n\u001b[0m\u001b[1;32m    153\u001b[0m             )\n\u001b[1;32m    154\u001b[0m \u001b[0;34m\u001b[0m\u001b[0m\n",
      "\u001b[0;32m/home/cabbage/cabbage/features/deepmatching.py\u001b[0m in \u001b[0;36mcalculate_cost\u001b[0;34m(self, video_name, frame1, bb1, frame2, bb2)\u001b[0m\n\u001b[1;32m     46\u001b[0m                 \u001b[0minside_two\u001b[0m \u001b[0;34m=\u001b[0m \u001b[0maabb\u001b[0m\u001b[0;34m.\u001b[0m\u001b[0mis_inside\u001b[0m\u001b[0;34m(\u001b[0m\u001b[0mbb2\u001b[0m\u001b[0;34m,\u001b[0m \u001b[0mp\u001b[0m\u001b[0;34m)\u001b[0m\u001b[0;34m\u001b[0m\u001b[0m\n\u001b[1;32m     47\u001b[0m             \u001b[0;32melse\u001b[0m\u001b[0;34m:\u001b[0m\u001b[0;34m\u001b[0m\u001b[0m\n\u001b[0;32m---> 48\u001b[0;31m                 \u001b[0minside_one\u001b[0m \u001b[0;34m=\u001b[0m \u001b[0maabb\u001b[0m\u001b[0;34m.\u001b[0m\u001b[0mis_inside\u001b[0m\u001b[0;34m(\u001b[0m\u001b[0mbb1\u001b[0m\u001b[0;34m,\u001b[0m \u001b[0mp\u001b[0m\u001b[0;34m)\u001b[0m\u001b[0;34m\u001b[0m\u001b[0m\n\u001b[0m\u001b[1;32m     49\u001b[0m                 \u001b[0minside_two\u001b[0m \u001b[0;34m=\u001b[0m \u001b[0maabb\u001b[0m\u001b[0;34m.\u001b[0m\u001b[0mis_inside\u001b[0m\u001b[0;34m(\u001b[0m\u001b[0mbb2\u001b[0m\u001b[0;34m,\u001b[0m \u001b[0mq\u001b[0m\u001b[0;34m)\u001b[0m\u001b[0;34m\u001b[0m\u001b[0m\n\u001b[1;32m     50\u001b[0m \u001b[0;34m\u001b[0m\u001b[0m\n",
      "\u001b[0;32m~/miniconda3/lib/python3.6/site-packages/pppr/aabb.py\u001b[0m in \u001b[0;36mis_inside\u001b[0;34m(aabb, point)\u001b[0m\n\u001b[1;32m     19\u001b[0m     \u001b[0mx\u001b[0m\u001b[0;34m,\u001b[0m\u001b[0my\u001b[0m\u001b[0;34m,\u001b[0m\u001b[0mw\u001b[0m\u001b[0;34m,\u001b[0m\u001b[0mh\u001b[0m \u001b[0;34m=\u001b[0m \u001b[0maabb\u001b[0m\u001b[0;34m\u001b[0m\u001b[0m\n\u001b[1;32m     20\u001b[0m     \u001b[0mu\u001b[0m\u001b[0;34m,\u001b[0m\u001b[0mv\u001b[0m \u001b[0;34m=\u001b[0m \u001b[0mpoint\u001b[0m\u001b[0;34m\u001b[0m\u001b[0m\n\u001b[0;32m---> 21\u001b[0;31m     \u001b[0;32mreturn\u001b[0m \u001b[0mu\u001b[0m \u001b[0;34m>=\u001b[0m \u001b[0mx\u001b[0m \u001b[0;32mand\u001b[0m \u001b[0mu\u001b[0m \u001b[0;34m<\u001b[0m \u001b[0mx\u001b[0m\u001b[0;34m+\u001b[0m\u001b[0mw\u001b[0m \u001b[0;32mand\u001b[0m\u001b[0;31m \u001b[0m\u001b[0;31m\\\u001b[0m\u001b[0;34m\u001b[0m\u001b[0m\n\u001b[0m\u001b[1;32m     22\u001b[0m         \u001b[0mv\u001b[0m \u001b[0;34m>=\u001b[0m \u001b[0my\u001b[0m \u001b[0;32mand\u001b[0m \u001b[0mv\u001b[0m \u001b[0;34m<\u001b[0m \u001b[0my\u001b[0m\u001b[0;34m+\u001b[0m\u001b[0mh\u001b[0m\u001b[0;34m\u001b[0m\u001b[0m\n\u001b[1;32m     23\u001b[0m \u001b[0;34m\u001b[0m\u001b[0m\n",
      "\u001b[0;31mKeyboardInterrupt\u001b[0m: "
     ]
    }
   ],
   "source": [
    "%matplotlib inline\n",
    "import matplotlib.pyplot as plt\n",
    "import json\n",
    "from pprint import pprint\n",
    "import numpy as np\n",
    "Settings = json.load(open('settings.txt'))\n",
    "pprint(Settings)\n",
    "import numpy as np\n",
    "import sys\n",
    "sys.path.append('../')\n",
    "from cabbage.regression.Regression import get_W_mot16_02_dmax100\n",
    "from cabbage.MultiplePeopleTracking import GraphGenerator, BatchGraphGenerator, AABBLookup\n",
    "from cabbage.features.deepmatching import ReadOnlyDeepMatching\n",
    "from cabbage.features.ReId import StoredReId, StackNet64x64, get_element\n",
    "from experiments import MOT16_Experiments\n",
    "from cabbage.data.video import VideoData\n",
    "from time import time\n",
    "root = Settings['data_root']\n",
    "print(\"\\n\")\n",
    "\n",
    "reid = StackNet64x64(root)\n",
    "dm = ReadOnlyDeepMatching(root, 100)  # deep matches are set-up for 100 frames\n",
    "\n",
    "dmax = 100\n",
    "\n",
    "\n",
    "mot16 = MOT16_Experiments(root)\n",
    "video_name = 'MOT16-11'\n",
    "X = mot16.mot16_11_X\n",
    "\n",
    "Dt = mot16.mot16_11_detections\n",
    "vd = VideoData(Dt)\n",
    "Dt = vd.get_n_first_frames(100)\n",
    "\n",
    "W = get_W_mot16_02_dmax100(root)\n",
    "\n",
    "print(\"\\nDt\", Dt.shape)\n",
    "print(\"\\n\")\n",
    "\n",
    "\n",
    "generator = BatchGraphGenerator(root, reid=reid, dm=dm, dmax=dmax, video_name=video_name)\n",
    "generator.build(Dt, X, W, batch_size=4)\n"
   ]
  },
  {
   "cell_type": "code",
   "execution_count": null,
   "metadata": {},
   "outputs": [],
   "source": [
    "A = np.array([\n",
    "    [1, 10],\n",
    "    [2, 20],\n",
    "    [3, 30],\n",
    "    [4, 40],\n",
    "    [5, 50]\n",
    "])\n",
    "\n",
    "a = np.array([[2], [20]])\n",
    "print(a.T @ a)\n",
    "\n",
    "\n",
    "v = np.einsum('ij,ij->i', A, A)\n",
    "\n",
    "print(v)"
   ]
  }
 ],
 "metadata": {
  "kernelspec": {
   "display_name": "Python 3",
   "language": "python",
   "name": "python3"
  },
  "language_info": {
   "codemirror_mode": {
    "name": "ipython",
    "version": 3
   },
   "file_extension": ".py",
   "mimetype": "text/x-python",
   "name": "python",
   "nbconvert_exporter": "python",
   "pygments_lexer": "ipython3",
   "version": "3.6.3"
  }
 },
 "nbformat": 4,
 "nbformat_minor": 2
}
