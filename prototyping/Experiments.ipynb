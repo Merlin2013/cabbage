{
 "cells": [
  {
   "cell_type": "code",
   "execution_count": 1,
   "metadata": {},
   "outputs": [
    {
     "name": "stdout",
     "output_type": "stream",
     "text": [
      "{'data_root': '/home/data',\n",
      " 'deepmatch': '/home/deepmatching_1.2.2_c++/deepmatching-static'}\n",
      "/home/data/MOT16 found :)\n",
      "MOT16: load memmapped file /home/data/MOT16/train/MOT16-02/data.memmap\n",
      "MOT16 X loaded\n",
      "MOT16 Y_det loaded\n",
      "MOT16 Y_gt loaded\n",
      "MOT16: load memmapped file /home/data/MOT16/train/MOT16-11/data.memmap\n",
      "MOT16 X loaded\n",
      "MOT16 Y_det loaded\n",
      "MOT16 Y_gt loaded\n",
      "Handling 600 frames in 0.4640767574310303 seconds\n",
      "Handling 900 frames in 0.3314354419708252 seconds\n"
     ]
    }
   ],
   "source": [
    "import json\n",
    "from pppr import aabb\n",
    "from pprint import pprint\n",
    "Settings = json.load(open('settings.txt'))\n",
    "pprint(Settings)\n",
    "\n",
    "%matplotlib inline\n",
    "\n",
    "import sys\n",
    "sys.path.insert(0,'../')\n",
    "from pak.datasets.MOT import MOT16\n",
    "from pak import utils\n",
    "import matplotlib.pyplot as plt\n",
    "import numpy as np\n",
    "\n",
    "root = Settings['data_root']\n",
    "\n",
    "from experiments import MOT16_Experiments\n",
    "\n",
    "mot16_experiments = MOT16_Experiments(root)"
   ]
  }
 ],
 "metadata": {
  "kernelspec": {
   "display_name": "Python 3",
   "language": "python",
   "name": "python3"
  },
  "language_info": {
   "codemirror_mode": {
    "name": "ipython",
    "version": 3
   },
   "file_extension": ".py",
   "mimetype": "text/x-python",
   "name": "python",
   "nbconvert_exporter": "python",
   "pygments_lexer": "ipython3",
   "version": "3.6.3"
  }
 },
 "nbformat": 4,
 "nbformat_minor": 2
}
