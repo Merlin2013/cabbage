{
 "cells": [
  {
   "cell_type": "code",
   "execution_count": 12,
   "metadata": {},
   "outputs": [
    {
     "name": "stdout",
     "output_type": "stream",
     "text": [
      "{'data_root': '/home/data',\n",
      " 'deepmatch': '/home/deepmatching_1.2.2_c++/deepmatching-static',\n",
      " 'graph_solver': '/home/cabbage/build/sample'}\n",
      "/home/data/MOT16 found :)\n",
      "MOT16: load memmapped file /home/data/MOT16/train/MOT16-11/data.memmap\n",
      "MOT16 X loaded\n",
      "MOT16 Y_det loaded\n",
      "MOT16 Y_gt loaded\n",
      "before (3190, 6)\n",
      "after (3189, 6)\n",
      "\n",
      "no preprocessing:(3185, 6) vs (3189, 6)\n",
      "AABB_MOTA: 0.729068673565\n",
      "\t {'FN': 434, 'FP': 430, 'IDSW': 0, 'GT': 3189}\n",
      "\n",
      "MOTA (center): 0.739103167137\n",
      "\t {'FN': 414, 'FP': 410, 'IDSW': 8, 'GT': 3189}\n",
      "\n",
      "MOTA (floor): 0.735967387896\n",
      "\t {'FN': 421, 'FP': 417, 'IDSW': 4, 'GT': 3189}\n",
      "\n",
      "with preprocessing:(2714, 6) vs (3189, 6)\n",
      "AABB_MOTA: 0.851050486046\n",
      "\t {'FN': 475, 'FP': 0, 'IDSW': 0, 'GT': 3189}\n",
      "\n",
      "MOTA (center): 0.851050486046\n",
      "\t {'FN': 475, 'FP': 0, 'IDSW': 0, 'GT': 3189}\n",
      "\n",
      "MOTA (floor): 0.851050486046\n",
      "\t {'FN': 475, 'FP': 0, 'IDSW': 0, 'GT': 3189}\n"
     ]
    }
   ],
   "source": [
    "import json\n",
    "from pprint import pprint\n",
    "Settings = json.load(open('settings.txt'))\n",
    "pprint(Settings)\n",
    "import sys\n",
    "sys.path.insert(0,'../')\n",
    "from numpy import genfromtxt\n",
    "import numpy as np\n",
    "from pak.evaluation import MOTA\n",
    "from cabbage.data.video import VideoData\n",
    "from experiments import MOT16_Experiments, remove_negative_pairs\n",
    "from pak.evaluation import MOTA\n",
    "from cabbage.evaluation import MOTA_transform\n",
    "from pak.post_processing import MOT\n",
    "from pak.datasets.MOT import MOT16\n",
    "root = Settings['data_root']\n",
    "mot16__ = MOT16(root)\n",
    "\n",
    "X, Y_det, Y_gt = mot16__.get_train(\"MOT16-11\", memmapped=True)\n",
    "\n",
    "threshold_pt = 350; threshold=0.5\n",
    "\n",
    "\n",
    "\n",
    "mot16 = MOT16_Experiments(root)\n",
    "#Hy = mot16.get_MOT16_11_trajectories()\n",
    "h__, w__, _ = X[0].shape\n",
    "Hy__ = remove_negative_pairs(mot16.mot16_11_true_detections, w__, h__)\n",
    "# Hy = MOT.remove_short_tracks(\n",
    "#    MOT.remove_duplicates(Hy, lambda x: x[6]),\n",
    "#    min_length=4)\n",
    "Hy = Hy__[:,0:6]\n",
    "\n",
    "Gt = mot16.get_MOT16_11_gt_trajectories()\n",
    "print(\"before\", Gt.shape)\n",
    "Gt = remove_negative_pairs(Gt, w__, h__, True)\n",
    "print(\"after\", Gt.shape)\n",
    "\n",
    "\n",
    "print(\"\")\n",
    "print(\"no preprocessing:\" + str(Hy.shape) + ' vs ' + str(Gt.shape))\n",
    "result, info = MOTA.evaluate_aabb(Gt, Hy, threshold, info=True)\n",
    "print(\"AABB_MOTA:\", result)\n",
    "print(\"\\t\", info)\n",
    "\n",
    "Gt_center = MOTA_transform.aabb_to_center_point(Gt)\n",
    "Hy_center = MOTA_transform.aabb_to_center_point(Hy)\n",
    "result, info = MOTA.evaluate(Gt_center,Hy_center,threshold_pt,info=True)\n",
    "print(\"\\nMOTA (center):\", result)\n",
    "print(\"\\t\", info)\n",
    "\n",
    "Gt_floor = MOTA_transform.aabb_to_floor_point(Gt)\n",
    "Hy_floor = MOTA_transform.aabb_to_floor_point(Hy)\n",
    "result, info = MOTA.evaluate(Gt_floor,Hy_floor,threshold_pt,info=True)\n",
    "print(\"\\nMOTA (floor):\", result)\n",
    "print(\"\\t\", info)\n",
    "\n",
    "print(\"\")\n",
    "Hy = MOT.remove_short_tracks(\n",
    "    MOT.remove_duplicates(Hy__, lambda x: x[6]),\n",
    "    min_length=4)\n",
    "Hy = Hy[:,0:6]\n",
    "\n",
    "print(\"with preprocessing:\" + str(Hy.shape) + ' vs ' + str(Gt.shape))\n",
    "\n",
    "result, info = MOTA.evaluate_aabb(Gt, Hy, threshold, info=True)\n",
    "print(\"AABB_MOTA:\", result)\n",
    "print(\"\\t\", info)\n",
    "\n",
    "Gt_center = MOTA_transform.aabb_to_center_point(Gt)\n",
    "Hy_center = MOTA_transform.aabb_to_center_point(Hy)\n",
    "result, info = MOTA.evaluate(Gt_center,Hy_center,threshold_pt,info=True)\n",
    "print(\"\\nMOTA (center):\", result)\n",
    "print(\"\\t\", info)\n",
    "\n",
    "Gt_floor = MOTA_transform.aabb_to_floor_point(Gt)\n",
    "Hy_floor = MOTA_transform.aabb_to_floor_point(Hy)\n",
    "result, info = MOTA.evaluate(Gt_floor,Hy_floor,threshold_pt,info=True)\n",
    "print(\"\\nMOTA (floor):\", result)\n",
    "print(\"\\t\", info)"
   ]
  },
  {
   "cell_type": "code",
   "execution_count": 7,
   "metadata": {},
   "outputs": [
    {
     "name": "stdout",
     "output_type": "stream",
     "text": [
      "45\n"
     ]
    }
   ],
   "source": [
    "ids = Gt[:,1]\n",
    "print(len(np.unique(ids)))"
   ]
  }
 ],
 "metadata": {
  "kernelspec": {
   "display_name": "Python 3",
   "language": "python",
   "name": "python3"
  },
  "language_info": {
   "codemirror_mode": {
    "name": "ipython",
    "version": 3
   },
   "file_extension": ".py",
   "mimetype": "text/x-python",
   "name": "python",
   "nbconvert_exporter": "python",
   "pygments_lexer": "ipython3",
   "version": "3.6.3"
  }
 },
 "nbformat": 4,
 "nbformat_minor": 2
}
