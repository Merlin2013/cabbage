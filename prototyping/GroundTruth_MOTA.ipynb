{
 "cells": [
  {
   "cell_type": "code",
   "execution_count": 4,
   "metadata": {},
   "outputs": [
    {
     "name": "stdout",
     "output_type": "stream",
     "text": [
      "{'data_root': '/home/data',\n",
      " 'deepmatch': '/home/deepmatching_1.2.2_c++/deepmatching-static',\n",
      " 'graph_solver': '/home/cabbage/build/sample'}\n",
      "(3349, 6)\n",
      "(3190, 6)\n",
      "\n",
      "(2693, 6)\n",
      "AABB_MOTA: 0.844200626959\n",
      "\t {'FN': 497, 'FP': 0, 'IDSW': 0, 'GT': 3190}\n",
      "\n",
      "MOTA (center): 0.844200626959\n",
      "\t {'FN': 497, 'FP': 0, 'IDSW': 0, 'GT': 3190}\n",
      "\n",
      "MOTA (floor): 0.844200626959\n",
      "\t {'FN': 497, 'FP': 0, 'IDSW': 0, 'GT': 3190}\n"
     ]
    }
   ],
   "source": [
    "import json\n",
    "from pprint import pprint\n",
    "Settings = json.load(open('settings.txt'))\n",
    "pprint(Settings)\n",
    "import sys\n",
    "sys.path.insert(0,'../')\n",
    "from numpy import genfromtxt\n",
    "import numpy as np\n",
    "from pak.evaluation import MOTA\n",
    "from cabbage.data.video import VideoData\n",
    "from experiments import MOT16_Experiments\n",
    "from pak.evaluation import MOTA\n",
    "from cabbage.evaluation import MOTA_transform\n",
    "from pak.post_processing import MOT\n",
    "\n",
    "root = Settings['data_root']\n",
    "\n",
    "mot16 = MOT16_Experiments(root)\n",
    "Hy = mot16.get_MOT16_11_trajectories()  # true detections\n",
    "print(Hy.shape)\n",
    "\n",
    "Gt = mot16.get_MOT16_11_gt_trajectories()\n",
    "print(Gt.shape)\n",
    "\n",
    "print(\"\")\n",
    "Hy = MOT.remove_short_tracks(\n",
    "    MOT.remove_duplicates(Hy, lambda x: x[5]),\n",
    "    min_length=5)\n",
    "print(Hy.shape)\n",
    "\n",
    "threshold=0.5\n",
    "result, info = MOTA.evaluate_aabb(Gt, Hy, threshold, info=True)\n",
    "\n",
    "print(\"AABB_MOTA:\", result)\n",
    "print(\"\\t\", info)\n",
    "\n",
    "threshold = 350\n",
    "\n",
    "Gt_center = MOTA_transform.aabb_to_center_point(Gt)\n",
    "Hy_center = MOTA_transform.aabb_to_center_point(Hy)\n",
    "result, info = MOTA.evaluate(Gt_center, Hy_center, threshold, info=True)\n",
    "print(\"\\nMOTA (center):\", result)\n",
    "print(\"\\t\", info)\n",
    "\n",
    "Gt_floor = MOTA_transform.aabb_to_floor_point(Gt)\n",
    "Hy_floor = MOTA_transform.aabb_to_floor_point(Hy)\n",
    "result, info = MOTA.evaluate(Gt_floor, Hy_floor, threshold, info=True)\n",
    "print(\"\\nMOTA (floor):\", result)\n",
    "print(\"\\t\", info)"
   ]
  }
 ],
 "metadata": {
  "kernelspec": {
   "display_name": "Python 3",
   "language": "python",
   "name": "python3"
  },
  "language_info": {
   "codemirror_mode": {
    "name": "ipython",
    "version": 3
   },
   "file_extension": ".py",
   "mimetype": "text/x-python",
   "name": "python",
   "nbconvert_exporter": "python",
   "pygments_lexer": "ipython3",
   "version": "3.6.3"
  }
 },
 "nbformat": 4,
 "nbformat_minor": 2
}
