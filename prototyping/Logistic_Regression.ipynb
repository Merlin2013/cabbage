{
 "cells": [
  {
   "cell_type": "code",
   "execution_count": 17,
   "metadata": {},
   "outputs": [
    {
     "name": "stdout",
     "output_type": "stream",
     "text": [
      "elapsed seconds: 0.0012552738189697266\n",
      "[  3.88992457e-01  -5.37124780e-01   1.46708794e-01  -6.06747939e-02\n",
      "   2.19352430e-01  -6.31484834e-02  -5.55828592e-01   2.59161802e-01\n",
      "  -7.86814968e-01   1.12901824e-01  -3.07688144e-01   4.63152516e-04\n",
      "  -2.05436868e-01  -6.03657117e-01  -1.37741754e-02   1.01183419e-01]\n"
     ]
    }
   ],
   "source": [
    "import sys\n",
    "sys.path.append('../')\n",
    "import numpy as np\n",
    "import numpy.random as rnd\n",
    "from time import time\n",
    "\n",
    "\n",
    "import cabbage.regression.LogisticRegression as LR\n",
    "\n",
    "X = np.array([\n",
    "    [1, 1],\n",
    "    [1,.5],\n",
    "    [1,.2],\n",
    "    [1, 0]\n",
    "])\n",
    "X = rnd.rand(100, 16)\n",
    "y = rnd.randint(0, 2, size=100)\n",
    "\n",
    "start = time()\n",
    "w = LR.get_params(X, y)\n",
    "end = time()\n",
    "print('elapsed seconds:', end-start)\n",
    "print(w)"
   ]
  }
 ],
 "metadata": {
  "kernelspec": {
   "display_name": "Python 3",
   "language": "python",
   "name": "python3"
  },
  "language_info": {
   "codemirror_mode": {
    "name": "ipython",
    "version": 3
   },
   "file_extension": ".py",
   "mimetype": "text/x-python",
   "name": "python",
   "nbconvert_exporter": "python",
   "pygments_lexer": "ipython3",
   "version": "3.6.3"
  }
 },
 "nbformat": 4,
 "nbformat_minor": 2
}
