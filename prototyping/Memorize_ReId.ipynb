{
 "cells": [
  {
   "cell_type": "code",
   "execution_count": 3,
   "metadata": {},
   "outputs": [
    {
     "name": "stdout",
     "output_type": "stream",
     "text": [
      "{'data_root': '/home/data',\n",
      " 'deepmatch': '/home/deepmatching_1.2.2_c++/deepmatching-static'}\n",
      "Found model /home/data/reid_models/stacknet64x64_84_BOTH.h5! :)\n",
      "elapsed 12.352057456970215\n",
      "total 78769\n"
     ]
    }
   ],
   "source": [
    "%matplotlib inline\n",
    "import sys\n",
    "sys.path.append('../')\n",
    "import matplotlib.pyplot as plt\n",
    "import json\n",
    "from pprint import pprint\n",
    "import numpy as np\n",
    "Settings = json.load(open('settings.txt'))\n",
    "from cabbage.features.ReId import StoredReId\n",
    "pprint(Settings)\n",
    "import numpy as np\n",
    "import sys\n",
    "sys.path.append('../')\n",
    "from cabbage.regression.Regression import ReadOnlyRegression \n",
    "from cabbage.MultiplePeopleTracking import GraphGenerator\n",
    "from experiments import MOT16_Experiments\n",
    "from os import makedirs, listdir\n",
    "from os.path import join, isfile, isdir, exists, splitext\n",
    "from time import time\n",
    "root = Settings['data_root']\n",
    "\n",
    "mot16 = MOT16_Experiments(root)\n",
    "video_name = 'MOT16-02'\n",
    "video = mot16.mot16_02_X\n",
    "dmax = 5\n",
    "\n",
    "#Dt = mot16.mot16_02_detections\n",
    "Dt = mot16.mot16_02_true_detections_no_pid\n",
    "\n",
    "reid = StoredReId(root, 5)\n",
    "\n",
    "\n",
    "#reid.memorize(Dt, video, video_name)\n",
    "\n",
    "pred_model = join(reid.root, 'predict_MOT16-02_dmax5.npy')\n",
    "brok_model = join(reid.root, 'broken_MOT16-02_dmax5.npy')\n",
    "\n",
    "reid.load_memory(pred_model, brok_model)\n",
    "\n",
    "\n",
    "total_comparisons = 0\n",
    "n, _ = Dt.shape\n",
    "\n",
    "__start = time()\n",
    "for i in range(n):\n",
    "    frame1, x,y,w,h, _ = Dt[i]\n",
    "    \n",
    "    for j in range(i+1, n):\n",
    "        frame2, x,y,w,h,_ = Dt[j]\n",
    "        delta = int(abs(frame2-frame1) )\n",
    "        if delta < dmax:\n",
    "            total_comparisons += 1\n",
    "            pred = reid.predict(i, j)\n",
    "            assert pred == reid.predict(j, i)\n",
    "\n",
    "__end = time()\n",
    "print('elapsed', __end - __start)\n",
    "print('total', total_comparisons)"
   ]
  }
 ],
 "metadata": {
  "kernelspec": {
   "display_name": "Python 3",
   "language": "python",
   "name": "python3"
  },
  "language_info": {
   "codemirror_mode": {
    "name": "ipython",
    "version": 3
   },
   "file_extension": ".py",
   "mimetype": "text/x-python",
   "name": "python",
   "nbconvert_exporter": "python",
   "pygments_lexer": "ipython3",
   "version": "3.6.3"
  }
 },
 "nbformat": 4,
 "nbformat_minor": 2
}
