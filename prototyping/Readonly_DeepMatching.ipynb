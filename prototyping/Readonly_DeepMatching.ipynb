{
 "cells": [
  {
   "cell_type": "code",
   "execution_count": 5,
   "metadata": {},
   "outputs": [
    {
     "name": "stdout",
     "output_type": "stream",
     "text": [
      "{'data_root': '/home/data',\n",
      " 'deepmatch': '/home/deepmatching_1.2.2_c++/deepmatching-static'}\n"
     ]
    },
    {
     "data": {
      "text/plain": [
       "array([[  528.     ,   624.     ,   608.     ,   664.     ,     3.59102,\n",
       "         3092.     ],\n",
       "       [  528.     ,   688.     ,   520.     ,   680.     ,     3.94882,\n",
       "         1484.     ],\n",
       "       [  528.     ,   176.     ,   520.     ,   168.     ,     4.78946,\n",
       "          320.     ],\n",
       "       ..., \n",
       "       [  496.     ,   400.     ,   496.     ,   400.     ,     4.77758,\n",
       "          217.     ],\n",
       "       [  496.     ,   432.     ,   496.     ,   432.     ,     4.6955 ,\n",
       "          313.     ],\n",
       "       [  496.     ,   464.     ,   504.     ,   456.     ,     4.11503,\n",
       "          728.     ]])"
      ]
     },
     "execution_count": 5,
     "metadata": {},
     "output_type": "execute_result"
    }
   ],
   "source": [
    "%matplotlib inline\n",
    "import sys\n",
    "sys.path.append('../')\n",
    "import matplotlib.pyplot as plt\n",
    "import json\n",
    "from pprint import pprint\n",
    "import numpy as np\n",
    "Settings = json.load(open('settings.txt'))\n",
    "from cabbage.features.ReId import StoredReId\n",
    "pprint(Settings)\n",
    "import numpy as np\n",
    "import sys\n",
    "sys.path.append('../')\n",
    "from cabbage.regression.Regression import ReadOnlyRegression \n",
    "from cabbage.MultiplePeopleTracking import GraphGenerator\n",
    "from cabbage.features.deepmatching import ReadOnlyDeepMatching\n",
    "from experiments import MOT16_Experiments\n",
    "from os import makedirs, listdir\n",
    "from os.path import join, isfile, isdir, exists, splitext\n",
    "from time import time\n",
    "root = Settings['data_root']\n",
    "\n",
    "mot16 = MOT16_Experiments(root)\n",
    "video_name = 'MOT16-02'\n",
    "video = mot16.mot16_02_X\n",
    "dmax = 100\n",
    "\n",
    "#Dt = mot16.mot16_02_detections\n",
    "Dt = mot16.mot16_02_true_detections_no_pid\n",
    "\n",
    "dm = ReadOnlyDeepMatching(root, dmax)\n",
    "dm.get_match(video_name, 1, 90)"
   ]
  }
 ],
 "metadata": {
  "kernelspec": {
   "display_name": "Python 3",
   "language": "python",
   "name": "python3"
  },
  "language_info": {
   "codemirror_mode": {
    "name": "ipython",
    "version": 3
   },
   "file_extension": ".py",
   "mimetype": "text/x-python",
   "name": "python",
   "nbconvert_exporter": "python",
   "pygments_lexer": "ipython3",
   "version": "3.6.3"
  }
 },
 "nbformat": 4,
 "nbformat_minor": 2
}
