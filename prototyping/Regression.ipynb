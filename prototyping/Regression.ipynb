{
 "cells": [
  {
   "cell_type": "code",
   "execution_count": null,
   "metadata": {
    "scrolled": false
   },
   "outputs": [
    {
     "name": "stdout",
     "output_type": "stream",
     "text": [
      "{'data_root': '/Users/basheq/Desktop/RGBD_Lab/Data',\n",
      " 'deepmatch': '/Users/basheq/Desktop/RGBD_Lab/deepmatching_1.2.2_c++/deepmatching'}\n"
     ]
    },
    {
     "name": "stderr",
     "output_type": "stream",
     "text": [
      "Using TensorFlow backend.\n"
     ]
    },
    {
     "name": "stdout",
     "output_type": "stream",
     "text": [
      "run\n",
      "Found model /Users/basheq/Desktop/RGBD_Lab/Data/reid_models/stacknet64x64_84acc.h5! :)\n",
      "detection:  0  out of  3105\n",
      "detection:  1  out of  3105\n",
      "detection:  2  out of  3105\n",
      "detection:  3  out of  3105\n",
      "detection:  4  out of  3105\n",
      "detection:  5  out of  3105\n",
      "detection:  6  out of  3105\n",
      "detection:  7  out of  3105\n",
      "detection:  8  out of  3105\n",
      "detection:  9  out of  3105\n",
      "detection:  10  out of  3105\n",
      "detection:  11  out of  3105\n",
      "detection:  12  out of  3105\n",
      "detection:  13  out of  3105\n",
      "detection:  14  out of  3105\n",
      "detection:  15  out of  3105\n",
      "detection:  16  out of  3105\n",
      "detection:  17  out of  3105\n",
      "detection:  18  out of  3105\n",
      "detection:  19  out of  3105\n",
      "detection:  20  out of  3105\n",
      "detection:  21  out of  3105\n",
      "detection:  22  out of  3105\n",
      "ignore frame 5.0 -> 9.0\n",
      "detection:  23  out of  3105\n",
      "detection:  24  out of  3105\n",
      "detection:  25  out of  3105\n",
      "ignore frame 6.0 -> 9.0\n",
      "detection:  26  out of  3105\n",
      "ignore frame 6.0 -> 8.0\n",
      "ignore frame 6.0 -> 9.0\n",
      "ignore frame 6.0 -> 10.0\n",
      "ignore frame 6.0 -> 10.0\n",
      "detection:  27  out of  3105\n",
      "ignore frame 6.0 -> 7.0\n",
      "ignore frame 6.0 -> 8.0\n",
      "ignore frame 6.0 -> 9.0\n",
      "ignore frame 6.0 -> 10.0\n",
      "detection:  28  out of  3105\n",
      "ignore frame 7.0 -> 7.0\n",
      "ignore frame 7.0 -> 8.0\n",
      "detection:  29  out of  3105\n",
      "detection:  30  out of  3105\n",
      "detection:  31  out of  3105\n",
      "detection:  32  out of  3105\n"
     ]
    }
   ],
   "source": [
    "%matplotlib inline\n",
    "import matplotlib.pyplot as plt\n",
    "import json\n",
    "from pprint import pprint\n",
    "import numpy as np\n",
    "Settings = json.load(open('settings.txt'))\n",
    "pprint(Settings)\n",
    "import sys\n",
    "sys.path.insert(0,'../')\n",
    "# ---\n",
    "from cabbage.regression.Regression import Regression \n",
    "from experiments import MOT16_Experiments\n",
    "\n",
    "root = Settings['data_root']\n",
    "\n",
    "mot16 = MOT16_Experiments(root)\n",
    "\n",
    "video_name = 'MOT16-02'\n",
    "video = mot16.mot16_02_X\n",
    "dmax = 5\n",
    "\n",
    "Hy = mot16.mot16_02_true_detections\n",
    "regression = Regression(Hy, root,  video_name, video, dmax)\n",
    "\n",
    "#regression.restore_features()\n",
    "\n",
    "regression.run()\n",
    "\n",
    "W = regression.get_weights()\n",
    "\n",
    "print(W.shape)"
   ]
  }
 ],
 "metadata": {
  "kernelspec": {
   "display_name": "Python 3",
   "language": "python",
   "name": "python3"
  },
  "language_info": {
   "codemirror_mode": {
    "name": "ipython",
    "version": 3
   },
   "file_extension": ".py",
   "mimetype": "text/x-python",
   "name": "python",
   "nbconvert_exporter": "python",
   "pygments_lexer": "ipython3",
   "version": "3.6.1"
  }
 },
 "nbformat": 4,
 "nbformat_minor": 2
}
