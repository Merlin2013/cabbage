{
 "cells": [
  {
   "cell_type": "code",
   "execution_count": 1,
   "metadata": {},
   "outputs": [
    {
     "name": "stdout",
     "output_type": "stream",
     "text": [
      "{'data_root': '/home/data',\n",
      " 'deepmatch': '/home/deepmatching_1.2.2_c++/deepmatching-static'}\n",
      "\n",
      "/home/data/MOT16 found :)\n",
      "(1869, 6)\n"
     ]
    }
   ],
   "source": [
    "import numpy as np\n",
    "from os import makedirs, listdir\n",
    "from os.path import join, isfile, isdir, exists, splitext\n",
    "from pprint import pprint\n",
    "import json\n",
    "Settings = json.load(open('settings.txt'))\n",
    "pprint(Settings)\n",
    "print(\"\")\n",
    "from pak.datasets.MOT import MOT16\n",
    "import sys\n",
    "sys.path.append('../')\n",
    "\n",
    "from cabbage.features.deepmatching import DeepMatching\n",
    "\n",
    "# -------------------------\n",
    "\n",
    "root = Settings['data_root']\n",
    "mot16 = MOT16(root)\n",
    "\n",
    "delta_max = 3\n",
    "dm = DeepMatching(Settings['deepmatch'], join(root, 'deep_matching'),\n",
    "                 delta_max=delta_max)\n",
    "\n",
    "VIDEO = \"MOT16-11\"\n",
    "img_loc = mot16.get_test_imgfolder(VIDEO)\n",
    "\n",
    "\n",
    "dm.generate_matches(img_loc, VIDEO)\n",
    "\n",
    "M = dm.get_match(VIDEO, 1, 2)\n",
    "print(M.shape)"
   ]
  }
 ],
 "metadata": {
  "kernelspec": {
   "display_name": "Python 3",
   "language": "python",
   "name": "python3"
  },
  "language_info": {
   "codemirror_mode": {
    "name": "ipython",
    "version": 3
   },
   "file_extension": ".py",
   "mimetype": "text/x-python",
   "name": "python",
   "nbconvert_exporter": "python",
   "pygments_lexer": "ipython3",
   "version": "3.6.3"
  }
 },
 "nbformat": 4,
 "nbformat_minor": 2
}
