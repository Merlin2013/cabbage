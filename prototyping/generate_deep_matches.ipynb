{
 "cells": [
  {
   "cell_type": "markdown",
   "metadata": {},
   "source": [
    "# Generate Deep Matches\n",
    "\n",
    "Pre-compute deep matches for faster computation"
   ]
  },
  {
   "cell_type": "code",
   "execution_count": 1,
   "metadata": {},
   "outputs": [
    {
     "name": "stdout",
     "output_type": "stream",
     "text": [
      "{'data_root': '/home/data',\n",
      " 'deepmatch': '/home/deepmatching_1.2.2_c++/deepmatching-static'}\n",
      "\n",
      "/home/data/MOT16 found :)\n"
     ]
    }
   ],
   "source": [
    "import json\n",
    "from pprint import pprint\n",
    "Settings = json.load(open('settings.txt'))\n",
    "pprint(Settings)\n",
    "print(\"\")\n",
    "from pak.datasets.MOT import MOT16\n",
    "from os import makedirs, listdir\n",
    "from os.path import join, isfile, isdir, exists, splitext\n",
    "import subprocess\n",
    "\n",
    "deepmatch_loc = Settings['deepmatch']\n",
    "assert(isfile(deepmatch_loc))\n",
    "\n",
    "root = Settings['data_root']\n",
    "mot16 = MOT16(root)"
   ]
  },
  {
   "cell_type": "code",
   "execution_count": 2,
   "metadata": {},
   "outputs": [
    {
     "name": "stdout",
     "output_type": "stream",
     "text": [
      "b\"usage:\\n./deepmatching image1 image2 [options]\\nCompute the 'DeepMatching' between two images and print a list of\\npair-wise point correspondences:\\n  x1 y1 x2 y2 score index ...\\n(index refers to the local maximum from which the match was retrieved)\\nImages must be in PPM, PNG or JPG format. Version 1.2.2\\n\\nOptions:\\n    -h, --help                 print this message\\n\\n  Matching parameters:\\n    -downscale/-R <n=1>        downsize the input images by a factor 2^n\\n    -ngh_rad <n=0>             if n>0: restrict matching to n pxl neighborhood\\n    -nlpow <f=1.4>             non-linear rectification x := x^f\\n    -mem <n=1>                 if n>0: optimize memory footprint (bit unstable)\\n\\n  Fully scale & rotation invariant DeepMatching:\\n    if either one of these options is used, then this mode is activated:\\n    -max_scale <factor=5>         max scaling factor\\n    -rot_range <from=0> <to=360>  rotation range\\n\\n  Other parameters:\\n    -resize <width> <height>   to resize input images beforehand\\n    -v                         increase verbosity\\n    -nt <n>                    multi-threading with <n> threads\\n    -out <file_name>           output correspondences in a file\\n\"\n"
     ]
    }
   ],
   "source": [
    "img_loc = mot16.get_test_imgfolder(\"MOT16-02\")\n",
    "\n",
    "frames = sorted([join(img_loc, f) for f in listdir(img_loc) \\\n",
    "                  if f.endswith('.jpg')])\n",
    "\n",
    "args = (deepmatch_loc, \"-h\")\n",
    "\n",
    "popen = subprocess.Popen(args, stdout=subprocess.PIPE)\n",
    "popen.wait()\n",
    "output = popen.stdout.read()\n",
    "\n",
    "print(output)"
   ]
  }
 ],
 "metadata": {
  "kernelspec": {
   "display_name": "Python 3",
   "language": "python",
   "name": "python3"
  },
  "language_info": {
   "codemirror_mode": {
    "name": "ipython",
    "version": 3
   },
   "file_extension": ".py",
   "mimetype": "text/x-python",
   "name": "python",
   "nbconvert_exporter": "python",
   "pygments_lexer": "ipython3",
   "version": "3.6.3"
  }
 },
 "nbformat": 4,
 "nbformat_minor": 2
}
