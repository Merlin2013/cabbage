{
 "cells": [
  {
   "cell_type": "markdown",
   "metadata": {},
   "source": [
    "# Generate Deep Matches\n",
    "\n",
    "Pre-compute deep matches for faster computation"
   ]
  },
  {
   "cell_type": "code",
   "execution_count": 1,
   "metadata": {},
   "outputs": [
    {
     "name": "stdout",
     "output_type": "stream",
     "text": [
      "{'data_root': '/home/data',\n",
      " 'deepmatch': '/home/deepmatching_1.2.2_c++/deepmatching-static'}\n",
      "\n",
      "/home/data/MOT16 found :)\n"
     ]
    }
   ],
   "source": [
    "import json\n",
    "from pprint import pprint\n",
    "import numpy as np\n",
    "Settings = json.load(open('settings.txt'))\n",
    "pprint(Settings)\n",
    "print(\"\")\n",
    "from pak.datasets.MOT import MOT16\n",
    "from os import makedirs, listdir\n",
    "from os.path import join, isfile, isdir, exists, splitext\n",
    "import subprocess\n",
    "\n",
    "deepmatch_loc = Settings['deepmatch']\n",
    "assert(isfile(deepmatch_loc))\n",
    "\n",
    "root = Settings['data_root']\n",
    "mot16 = MOT16(root)"
   ]
  },
  {
   "cell_type": "code",
   "execution_count": 7,
   "metadata": {},
   "outputs": [
    {
     "name": "stdout",
     "output_type": "stream",
     "text": [
      "n 11634\n"
     ]
    }
   ],
   "source": [
    "from math import ceil, floor\n",
    "\n",
    "img_loc = mot16.get_test_imgfolder(\"MOT16-02\")\n",
    "\n",
    "frames = sorted([join(img_loc, f) for f in listdir(img_loc) \\\n",
    "                  if f.endswith('.jpg')])\n",
    "\n",
    "def deepmatch(img1, img2):\n",
    "    args = (deepmatch_loc, img1, img2, '-downscale', '3', '-nt', '16')\n",
    "    popen = subprocess.Popen(args, stdout=subprocess.PIPE)\n",
    "    popen.wait()\n",
    "    B = np.fromstring(popen.stdout.read(), sep=' ')\n",
    "    n = B.shape[0]\n",
    "    assert(floor(n) == ceil(n))\n",
    "    assert(floor(n/6) == ceil(n/6))\n",
    "    B = B.reshape((int(n/6), 6))\n",
    "    return B\n",
    "\n",
    "A = deepmatch(frames[0], frames[10])\n",
    "print(A.shape)"
   ]
  }
 ],
 "metadata": {
  "kernelspec": {
   "display_name": "Python 3",
   "language": "python",
   "name": "python3"
  },
  "language_info": {
   "codemirror_mode": {
    "name": "ipython",
    "version": 3
   },
   "file_extension": ".py",
   "mimetype": "text/x-python",
   "name": "python",
   "nbconvert_exporter": "python",
   "pygments_lexer": "ipython3",
   "version": "3.6.3"
  }
 },
 "nbformat": 4,
 "nbformat_minor": 2
}
