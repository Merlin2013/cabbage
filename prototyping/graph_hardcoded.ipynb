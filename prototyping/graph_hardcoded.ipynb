{
 "cells": [
  {
   "cell_type": "code",
   "execution_count": 3,
   "metadata": {},
   "outputs": [
    {
     "name": "stdout",
     "output_type": "stream",
     "text": [
      "{'data_root': '/home/data'}\n",
      "/home/data/MOT16 found :)\n",
      "MOT16: load memmapped file /home/data/MOT16/train/MOT16-02/data.memmap\n",
      "MOT16 X loaded\n",
      "MOT16 Y_det loaded\n",
      "MOT16 Y_gt loaded\n"
     ]
    }
   ],
   "source": [
    "%matplotlib inline\n",
    "\n",
    "import json\n",
    "from pprint import pprint\n",
    "Settings = json.load(open('settings.txt'))\n",
    "pprint(Settings)\n",
    "\n",
    "import sys\n",
    "sys.path.insert(0,'../')\n",
    "from pak import datasets\n",
    "from pak import utils\n",
    "import matplotlib.pyplot as plt\n",
    "\n",
    "root = Settings['data_root']\n",
    "\n",
    "frame = 1\n",
    "resize = 0.5\n",
    "\n",
    "mot16 = datasets.MOT16(root)\n",
    "\n",
    "# the training set contains both detection as well as ground-truth data\n",
    "# while the test set only contains detection data.\n",
    "X, Y_det, Y_gt = mot16.get_train(\"MOT16-02\", memmapped=True)\n",
    "\n",
    "\n",
    "def get_visible_pedestrains(frame):\n",
    "    Y_gt_frame1 = utils.extract_eq(Y_gt, col=0, value=frame)\n",
    "    Y_gt_frame1 = utils.extract_eq(Y_gt_frame1, col=7, value=1)\n",
    "    Y_gt_frame1 = utils.extract_eq(Y_gt_frame1, col=8, value=1)\n",
    "    return Y_gt_frame1"
   ]
  }
 ],
 "metadata": {
  "kernelspec": {
   "display_name": "Python 3",
   "language": "python",
   "name": "python3"
  },
  "language_info": {
   "codemirror_mode": {
    "name": "ipython",
    "version": 3
   },
   "file_extension": ".py",
   "mimetype": "text/x-python",
   "name": "python",
   "nbconvert_exporter": "python",
   "pygments_lexer": "ipython3",
   "version": "3.6.3"
  }
 },
 "nbformat": 4,
 "nbformat_minor": 2
}
