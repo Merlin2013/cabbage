{
 "cells": [
  {
   "cell_type": "code",
   "execution_count": 1,
   "metadata": {},
   "outputs": [],
   "source": [
    "%matplotlib inline\n",
    "from pycocotools.coco import COCO\n",
    "import tensorflow as tf\n",
    "import numpy as np\n",
    "from os.path import join, isfile, exists, basename, splitext\n",
    "from os import makedirs\n",
    "import urllib.request\n",
    "import shutil\n",
    "import zipfile\n",
    "from hdf5storage import loadmat"
   ]
  },
  {
   "cell_type": "markdown",
   "metadata": {},
   "source": [
    "# Download & Spectate data"
   ]
  },
  {
   "cell_type": "code",
   "execution_count": 2,
   "metadata": {},
   "outputs": [
    {
     "name": "stdout",
     "output_type": "stream",
     "text": [
      "/home/data/2DMOT2015.zip is ready\n",
      "/home/data/MOT16.zip is ready\n",
      "/home/data/cuhk03_release.zip is ready\n",
      "/home/data/Market-1501-v15.09.15.zip is ready\n"
     ]
    }
   ],
   "source": [
    "DATA_ROOT = '/home/data'\n",
    "\n",
    "if not exists(DATA_ROOT):\n",
    "    makedirs(DATA_ROOT)\n",
    "\n",
    "mot15 = '2DMOT2015.zip'\n",
    "mot15url = 'https://motchallenge.net/data/2DMOT2015.zip'\n",
    "mot16 = 'MOT16.zip'\n",
    "mot16url = 'https://motchallenge.net/data/MOT16.zip'\n",
    "\n",
    "\n",
    "def unzip(f, root=DATA_ROOT):\n",
    "    zip_ref = zipfile.ZipFile(f, 'r')\n",
    "    zip_ref.extractall(root)\n",
    "    zip_ref.close()\n",
    "\n",
    "def download_unzip_if_not_exist(file, url, root=DATA_ROOT):\n",
    "    file = join(root, file)\n",
    "    if not isfile(file):\n",
    "        print('could not find ' + file + '... downloading them..')\n",
    "        with urllib.request.urlopen(url) as res, open(file, 'wb') as f:\n",
    "            shutil.copyfileobj(res, f)\n",
    "        unzip(file)\n",
    "    print(file + \" is ready\")\n",
    "\n",
    "def unpack_predownloaded(f, root=DATA_ROOT):\n",
    "    target_folder = join(root, splitext(basename(f))[0])\n",
    "    if not isfile(f):\n",
    "        raise Exception('Could not find ' + f + \\\n",
    "                        \"!, you should download it!\")    \n",
    "    if isfile(f) \\\n",
    "        and not exists(target_folder):\n",
    "        unzip(f)\n",
    "    print(f +\" is ready\" )\n",
    "    \n",
    "download_unzip_if_not_exist(mot15, mot15url)\n",
    "download_unzip_if_not_exist(mot16, mot16url)\n",
    "\n",
    "cuhk03 = '/home/data/cuhk03_release.zip'\n",
    "unpack_predownloaded(cuhk03)\n",
    "\n",
    "market1501 = '/home/data/Market-1501-v15.09.15.zip'\n",
    "unpack_predownloaded(market1501)"
   ]
  },
  {
   "cell_type": "markdown",
   "metadata": {},
   "source": [
    "## MOT"
   ]
  },
  {
   "cell_type": "code",
   "execution_count": null,
   "metadata": {
    "collapsed": true
   },
   "outputs": [],
   "source": []
  },
  {
   "cell_type": "markdown",
   "metadata": {},
   "source": [
    "## CUHK03"
   ]
  },
  {
   "cell_type": "code",
   "execution_count": null,
   "metadata": {},
   "outputs": [],
   "source": [
    "cuhk03_data = join(DATA_ROOT, 'cuhk03_release/cuhk-03.mat')\n",
    "cuhk03_export_folder = '/home/data/cuhk03_release/export'\n",
    "\n",
    "if not exists(cuhk03_export_folder):\n",
    "    makedirs(cuhk03_export_folder)\n",
    "    \n",
    "matdata = loadmat(cuhk03_data)\n",
    "\n",
    "# with h5py.File(cuhk03_data, 'r') as f:\n",
    "    \n",
    "#     internalData = f['detected']\n",
    "    \n",
    "#     for i in range(internalData.shape[1]):\n",
    "#         pairFolderName = join(cuhk03_export_folder, 'cam' + str(i+1))\n",
    "        \n",
    "#         imgData = internalData[0][i]\n",
    "#         print(imgData.shape)\n",
    "    \n",
    "    "
   ]
  },
  {
   "cell_type": "code",
   "execution_count": null,
   "metadata": {
    "collapsed": true
   },
   "outputs": [],
   "source": [
    "for imgs_labeled, imgs_detected in zip(\n",
    "    matdata['labeled'].squeeze(), matdata['detected'].squeeze()):\n",
    "    "
   ]
  }
 ],
 "metadata": {
  "kernelspec": {
   "display_name": "Python 3",
   "language": "python",
   "name": "python3"
  },
  "language_info": {
   "codemirror_mode": {
    "name": "ipython",
    "version": 3
   },
   "file_extension": ".py",
   "mimetype": "text/x-python",
   "name": "python",
   "nbconvert_exporter": "python",
   "pygments_lexer": "ipython3",
   "version": "3.6.3"
  }
 },
 "nbformat": 4,
 "nbformat_minor": 2
}
